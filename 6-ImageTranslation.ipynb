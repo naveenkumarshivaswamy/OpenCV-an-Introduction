{
 "cells": [
  {
   "cell_type": "code",
   "execution_count": null,
   "metadata": {},
   "outputs": [],
   "source": [
    "#importing the required libraries \n",
    "import numpy as np \n",
    "import cv2 \n",
    "import matplotlib.pyplot as plt \n",
    "%matplotlib inline "
   ]
  },
  {
   "cell_type": "code",
   "execution_count": null,
   "metadata": {},
   "outputs": [],
   "source": [
    "#reading the image\n",
    "image = cv2.imread('resizing.jpg')\n",
    "plt.imshow(image)"
   ]
  },
  {
   "cell_type": "code",
   "execution_count": null,
   "metadata": {},
   "outputs": [],
   "source": [
    "dimension = image.shape\n",
    "print(\"dimension= \" + str(dimension))\n",
    "\n",
    "width = image.shape[0]\n",
    "print(\"width= \" + str(width))\n",
    "height = image.shape[1]\n",
    "print(\"height= \"+ str(height))\n",
    "scale = image.shape[2]\n",
    "print(\"scale= \" + str(scale))"
   ]
  },
  {
   "cell_type": "code",
   "execution_count": null,
   "metadata": {},
   "outputs": [],
   "source": [
    "#shifting the image 100 pixels in both dimensions\n",
    "rows,cols = image.shape[:2]\n",
    "\n",
    "M = np.float32([[1,0,-100],[0,1,-100]]) \n",
    "dst = cv2.warpAffine(image,M,(cols,rows)) \n",
    "plt.imshow(dst)"
   ]
  }
 ],
 "metadata": {
  "kernelspec": {
   "display_name": "Python 3",
   "language": "python",
   "name": "python3"
  },
  "language_info": {
   "codemirror_mode": {
    "name": "ipython",
    "version": 3
   },
   "file_extension": ".py",
   "mimetype": "text/x-python",
   "name": "python",
   "nbconvert_exporter": "python",
   "pygments_lexer": "ipython3",
   "version": "3.6.7"
  }
 },
 "nbformat": 4,
 "nbformat_minor": 2
}
