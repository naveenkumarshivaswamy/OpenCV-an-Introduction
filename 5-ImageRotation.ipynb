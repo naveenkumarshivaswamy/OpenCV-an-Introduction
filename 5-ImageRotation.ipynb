{
 "cells": [
  {
   "cell_type": "code",
   "execution_count": null,
   "metadata": {},
   "outputs": [],
   "source": [
    "#importing the required libraries \n",
    "import numpy as np \n",
    "import cv2 \n",
    "import matplotlib.pyplot as plt \n",
    "%matplotlib inline "
   ]
  },
  {
   "cell_type": "code",
   "execution_count": null,
   "metadata": {},
   "outputs": [],
   "source": [
    "image = cv2.imread('dog.jpg') \n",
    "plt.imshow(image)"
   ]
  },
  {
   "cell_type": "code",
   "execution_count": null,
   "metadata": {},
   "outputs": [],
   "source": [
    "rows,cols = image.shape[:2] \n",
    "#(col/2,rows/2) is the center of rotation for the image \n",
    "# M is the cordinates of the center \n",
    "M = cv2.getRotationMatrix2D((cols/2,rows/2),90,1) \n",
    "dst = cv2.warpAffine(image,M,(cols,rows))\n",
    "plt.imshow(dst)"
   ]
  },
  {
   "cell_type": "code",
   "execution_count": null,
   "metadata": {},
   "outputs": [],
   "source": [
    "M = cv2.getRotationMatrix2D((cols/2,rows/2),180,1) \n",
    "dst = cv2.warpAffine(image,M,(cols,rows))\n",
    "plt.imshow(dst)"
   ]
  },
  {
   "cell_type": "code",
   "execution_count": null,
   "metadata": {},
   "outputs": [],
   "source": [
    "M = cv2.getRotationMatrix2D((cols/2,rows/2),270,1) \n",
    "dst = cv2.warpAffine(image,M,(cols,rows))\n",
    "plt.imshow(dst)"
   ]
  }
 ],
 "metadata": {
  "kernelspec": {
   "display_name": "Python 3",
   "language": "python",
   "name": "python3"
  },
  "language_info": {
   "codemirror_mode": {
    "name": "ipython",
    "version": 3
   },
   "file_extension": ".py",
   "mimetype": "text/x-python",
   "name": "python",
   "nbconvert_exporter": "python",
   "pygments_lexer": "ipython3",
   "version": "3.6.7"
  }
 },
 "nbformat": 4,
 "nbformat_minor": 2
}
