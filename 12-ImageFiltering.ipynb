{
 "cells": [
  {
   "cell_type": "code",
   "execution_count": null,
   "metadata": {},
   "outputs": [],
   "source": [
    "#importing the required libraries \n",
    "import numpy as np \n",
    "import cv2 \n",
    "import matplotlib.pyplot as plt \n",
    "%matplotlib inline "
   ]
  },
  {
   "cell_type": "code",
   "execution_count": null,
   "metadata": {},
   "outputs": [],
   "source": [
    "image = cv2.imread('Lion-King-Poster.jpeg')\n",
    "image = cv2.cvtColor(image,cv2.COLOR_BGR2RGB)\n",
    "plt.imshow(image)"
   ]
  },
  {
   "cell_type": "code",
   "execution_count": null,
   "metadata": {},
   "outputs": [],
   "source": [
    "#using the averaging kernel for image smoothening \n",
    "averaging_kernel = np.ones((3,3),np.float32)/9\n",
    "\n",
    "filtered_image = cv2.filter2D(image,-1,averaging_kernel) \n",
    "plt.imshow(filtered_image) "
   ]
  },
  {
   "cell_type": "code",
   "execution_count": null,
   "metadata": {},
   "outputs": [],
   "source": [
    "#get a one dimensional Gaussian Kernel \n",
    "gaussian_kernel_x = cv2.getGaussianKernel(5,1) \n",
    "gaussian_kernel_y = cv2.getGaussianKernel(5,1) \n",
    "\n",
    "#converting to two dimensional kernel using matrix multiplication \n",
    "gaussian_kernel = gaussian_kernel_x * gaussian_kernel_y.T \n",
    "\n",
    "filtered_image = cv2.filter2D(image,-1,gaussian_kernel) \n",
    "plt.imshow(filtered_image)"
   ]
  }
 ],
 "metadata": {
  "kernelspec": {
   "display_name": "Python 3",
   "language": "python",
   "name": "python3"
  },
  "language_info": {
   "codemirror_mode": {
    "name": "ipython",
    "version": 3
   },
   "file_extension": ".py",
   "mimetype": "text/x-python",
   "name": "python",
   "nbconvert_exporter": "python",
   "pygments_lexer": "ipython3",
   "version": "3.6.7"
  }
 },
 "nbformat": 4,
 "nbformat_minor": 2
}
